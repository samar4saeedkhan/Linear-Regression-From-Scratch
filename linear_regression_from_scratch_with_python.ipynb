{
  "cells": [
    {
      "cell_type": "markdown",
      "id": "064350b9",
      "metadata": {
        "papermill": {
          "duration": 0.012605,
          "end_time": "2022-07-15T13:49:20.060415",
          "exception": false,
          "start_time": "2022-07-15T13:49:20.047810",
          "status": "completed"
        },
        "tags": [],
        "id": "064350b9"
      },
      "source": [
        "# **Machine Learning : Linear Regression in the beginning**\n",
        "\n",
        "This tutorial series is for absolute beginners in machine learning Linear Regression algorithm, for those who want to review/practice the fundamentals of machine learning and how to build them from scratch."
      ]
    },
    {
      "cell_type": "markdown",
      "id": "90746234",
      "metadata": {
        "papermill": {
          "duration": 0.009975,
          "end_time": "2022-07-15T13:49:20.080916",
          "exception": false,
          "start_time": "2022-07-15T13:49:20.070941",
          "status": "completed"
        },
        "tags": [],
        "id": "90746234"
      },
      "source": [
        "# **What is Machine Learning?**\n",
        "\n",
        "Machine learning is a field of inquiry devoted to understanding and building methods that 'learn', that is, methods that leverage data to improve performance on some set of tasks. It is seen as a part of artificial intelligence."
      ]
    },
    {
      "cell_type": "markdown",
      "id": "39d3aee4",
      "metadata": {
        "papermill": {
          "duration": 0.010252,
          "end_time": "2022-07-15T13:49:20.101944",
          "exception": false,
          "start_time": "2022-07-15T13:49:20.091692",
          "status": "completed"
        },
        "tags": [],
        "id": "39d3aee4"
      },
      "source": [
        "# **Type of Machine Learning Systems**\n",
        "\n",
        "#### **1.Supervised Learning**\n",
        "#### **2.Unsupervised Learning**\n",
        "#### **3.Semi-Supervised Learning**\n",
        "#### **4.Reinforcement Learning**"
      ]
    },
    {
      "cell_type": "markdown",
      "id": "2813a61c",
      "metadata": {
        "papermill": {
          "duration": 0.010115,
          "end_time": "2022-07-15T13:49:20.122923",
          "exception": false,
          "start_time": "2022-07-15T13:49:20.112808",
          "status": "completed"
        },
        "tags": [],
        "id": "2813a61c"
      },
      "source": [
        "# **Supervised Learning :**\n",
        "\n",
        "In supervised learning, the training data you feed to the algorithm includes the desired solutions, called labels\n",
        "\n",
        "* A typical supervised learning task is classification. The spam filter is a good example of this: it is trained with many examples emails along with their class (spam or ham), and it must learn how to classify new emails.\n",
        "\n",
        "* Another typical task is to predict a target numeric value, such as the price of a car, given a set of features (mileage, age, brand, etc.) called predictors. This sort of task is called regression. To train the system, you need to give it many examples of cars, including both their predictors and their labels (i.e., their prices)\n",
        "\n",
        "\n",
        "#### **## Let's get the data and dive into Linear Regression and examine it!.**\n",
        "\n",
        "Let's start with a very simple task of linear regression using a sample dataset called headbrain, wherein we are given some features of a brain    <br>(i.e. Head Size(cm^3 , Brain Weight(grams), etc) and predict the Brain Weight."
      ]
    },
    {
      "cell_type": "markdown",
      "id": "60a3e8dc",
      "metadata": {
        "papermill": {
          "duration": 0.010258,
          "end_time": "2022-07-15T13:49:20.143426",
          "exception": false,
          "start_time": "2022-07-15T13:49:20.133168",
          "status": "completed"
        },
        "tags": [],
        "id": "60a3e8dc"
      },
      "source": [
        "### **Import Libraries**"
      ]
    },
    {
      "cell_type": "code",
      "execution_count": null,
      "id": "ac5fc729",
      "metadata": {
        "execution": {
          "iopub.execute_input": "2022-07-15T13:49:20.165979Z",
          "iopub.status.busy": "2022-07-15T13:49:20.165513Z",
          "iopub.status.idle": "2022-07-15T13:49:20.178320Z",
          "shell.execute_reply": "2022-07-15T13:49:20.177294Z"
        },
        "papermill": {
          "duration": 0.027311,
          "end_time": "2022-07-15T13:49:20.180951",
          "exception": false,
          "start_time": "2022-07-15T13:49:20.153640",
          "status": "completed"
        },
        "tags": [],
        "id": "ac5fc729"
      },
      "outputs": [],
      "source": [
        "import numpy as np  #python library for scientific computing\n",
        "import pandas as pd #python library for data analysis and dataframes\n",
        "import matplotlib.pyplot as plt #python library for plotting graphs"
      ]
    },
    {
      "cell_type": "code",
      "execution_count": null,
      "id": "e499ff0d",
      "metadata": {
        "execution": {
          "iopub.execute_input": "2022-07-15T13:49:20.204275Z",
          "iopub.status.busy": "2022-07-15T13:49:20.203801Z",
          "iopub.status.idle": "2022-07-15T13:49:20.220399Z",
          "shell.execute_reply": "2022-07-15T13:49:20.219268Z"
        },
        "papermill": {
          "duration": 0.030793,
          "end_time": "2022-07-15T13:49:20.222914",
          "exception": false,
          "start_time": "2022-07-15T13:49:20.192121",
          "status": "completed"
        },
        "tags": [],
        "id": "e499ff0d"
      },
      "outputs": [],
      "source": [
        "df=pd.read_csv('../input/headbrain/headbrain.csv') # Importing/Connecting the headbrain dataset into python."
      ]
    },
    {
      "cell_type": "markdown",
      "id": "d749d8e0",
      "metadata": {
        "papermill": {
          "duration": 0.01044,
          "end_time": "2022-07-15T13:49:20.244030",
          "exception": false,
          "start_time": "2022-07-15T13:49:20.233590",
          "status": "completed"
        },
        "tags": [],
        "id": "d749d8e0"
      },
      "source": [
        "### DATA PROCESSING"
      ]
    },
    {
      "cell_type": "code",
      "execution_count": null,
      "id": "97f108ca",
      "metadata": {
        "execution": {
          "iopub.execute_input": "2022-07-15T13:49:20.267708Z",
          "iopub.status.busy": "2022-07-15T13:49:20.266847Z",
          "iopub.status.idle": "2022-07-15T13:49:20.285906Z",
          "shell.execute_reply": "2022-07-15T13:49:20.285076Z"
        },
        "papermill": {
          "duration": 0.03338,
          "end_time": "2022-07-15T13:49:20.288299",
          "exception": false,
          "start_time": "2022-07-15T13:49:20.254919",
          "status": "completed"
        },
        "tags": [],
        "id": "97f108ca",
        "outputId": "96e4e102-d9cc-4038-84ab-fed11e221c35"
      },
      "outputs": [
        {
          "data": {
            "text/html": [
              "<div>\n",
              "<style scoped>\n",
              "    .dataframe tbody tr th:only-of-type {\n",
              "        vertical-align: middle;\n",
              "    }\n",
              "\n",
              "    .dataframe tbody tr th {\n",
              "        vertical-align: top;\n",
              "    }\n",
              "\n",
              "    .dataframe thead th {\n",
              "        text-align: right;\n",
              "    }\n",
              "</style>\n",
              "<table border=\"1\" class=\"dataframe\">\n",
              "  <thead>\n",
              "    <tr style=\"text-align: right;\">\n",
              "      <th></th>\n",
              "      <th>Gender</th>\n",
              "      <th>Age Range</th>\n",
              "      <th>Head Size(cm^3)</th>\n",
              "      <th>Brain Weight(grams)</th>\n",
              "    </tr>\n",
              "  </thead>\n",
              "  <tbody>\n",
              "    <tr>\n",
              "      <th>0</th>\n",
              "      <td>1</td>\n",
              "      <td>1</td>\n",
              "      <td>4512</td>\n",
              "      <td>1530</td>\n",
              "    </tr>\n",
              "    <tr>\n",
              "      <th>1</th>\n",
              "      <td>1</td>\n",
              "      <td>1</td>\n",
              "      <td>3738</td>\n",
              "      <td>1297</td>\n",
              "    </tr>\n",
              "    <tr>\n",
              "      <th>2</th>\n",
              "      <td>1</td>\n",
              "      <td>1</td>\n",
              "      <td>4261</td>\n",
              "      <td>1335</td>\n",
              "    </tr>\n",
              "    <tr>\n",
              "      <th>3</th>\n",
              "      <td>1</td>\n",
              "      <td>1</td>\n",
              "      <td>3777</td>\n",
              "      <td>1282</td>\n",
              "    </tr>\n",
              "    <tr>\n",
              "      <th>4</th>\n",
              "      <td>1</td>\n",
              "      <td>1</td>\n",
              "      <td>4177</td>\n",
              "      <td>1590</td>\n",
              "    </tr>\n",
              "  </tbody>\n",
              "</table>\n",
              "</div>"
            ],
            "text/plain": [
              "   Gender  Age Range  Head Size(cm^3)  Brain Weight(grams)\n",
              "0       1          1             4512                 1530\n",
              "1       1          1             3738                 1297\n",
              "2       1          1             4261                 1335\n",
              "3       1          1             3777                 1282\n",
              "4       1          1             4177                 1590"
            ]
          },
          "execution_count": 3,
          "metadata": {},
          "output_type": "execute_result"
        }
      ],
      "source": [
        "df.head() # Reading the dataframe."
      ]
    },
    {
      "cell_type": "code",
      "execution_count": null,
      "id": "180c55b8",
      "metadata": {
        "execution": {
          "iopub.execute_input": "2022-07-15T13:49:20.312441Z",
          "iopub.status.busy": "2022-07-15T13:49:20.311677Z",
          "iopub.status.idle": "2022-07-15T13:49:20.320744Z",
          "shell.execute_reply": "2022-07-15T13:49:20.319661Z"
        },
        "papermill": {
          "duration": 0.024451,
          "end_time": "2022-07-15T13:49:20.323469",
          "exception": false,
          "start_time": "2022-07-15T13:49:20.299018",
          "status": "completed"
        },
        "tags": [],
        "id": "180c55b8",
        "outputId": "9eb4978b-b534-42ad-df39-49c4577e8824"
      },
      "outputs": [
        {
          "data": {
            "text/plain": [
              "Gender                 0\n",
              "Age Range              0\n",
              "Head Size(cm^3)        0\n",
              "Brain Weight(grams)    0\n",
              "dtype: int64"
            ]
          },
          "execution_count": 4,
          "metadata": {},
          "output_type": "execute_result"
        }
      ],
      "source": [
        "df.isnull().sum() # Analysing count of null values in columns"
      ]
    },
    {
      "cell_type": "code",
      "execution_count": null,
      "id": "c5b6293a",
      "metadata": {
        "execution": {
          "iopub.execute_input": "2022-07-15T13:49:20.348216Z",
          "iopub.status.busy": "2022-07-15T13:49:20.347797Z",
          "iopub.status.idle": "2022-07-15T13:49:20.374195Z",
          "shell.execute_reply": "2022-07-15T13:49:20.372711Z"
        },
        "papermill": {
          "duration": 0.042367,
          "end_time": "2022-07-15T13:49:20.377243",
          "exception": false,
          "start_time": "2022-07-15T13:49:20.334876",
          "status": "completed"
        },
        "tags": [],
        "id": "c5b6293a",
        "outputId": "08cd1f53-ce02-4458-ce4c-3a84f2ef8988"
      },
      "outputs": [
        {
          "name": "stdout",
          "output_type": "stream",
          "text": [
            "<class 'pandas.core.frame.DataFrame'>\n",
            "RangeIndex: 237 entries, 0 to 236\n",
            "Data columns (total 4 columns):\n",
            " #   Column               Non-Null Count  Dtype\n",
            "---  ------               --------------  -----\n",
            " 0   Gender               237 non-null    int64\n",
            " 1   Age Range            237 non-null    int64\n",
            " 2   Head Size(cm^3)      237 non-null    int64\n",
            " 3   Brain Weight(grams)  237 non-null    int64\n",
            "dtypes: int64(4)\n",
            "memory usage: 7.5 KB\n"
          ]
        }
      ],
      "source": [
        "df.info() # Analysing Columns Datatypes"
      ]
    },
    {
      "cell_type": "code",
      "execution_count": null,
      "id": "ce0aafc8",
      "metadata": {
        "execution": {
          "iopub.execute_input": "2022-07-15T13:49:20.401344Z",
          "iopub.status.busy": "2022-07-15T13:49:20.400915Z",
          "iopub.status.idle": "2022-07-15T13:49:20.414551Z",
          "shell.execute_reply": "2022-07-15T13:49:20.413573Z"
        },
        "papermill": {
          "duration": 0.028609,
          "end_time": "2022-07-15T13:49:20.417104",
          "exception": false,
          "start_time": "2022-07-15T13:49:20.388495",
          "status": "completed"
        },
        "tags": [],
        "id": "ce0aafc8",
        "outputId": "e2812bc3-c2b8-4f0d-aa9f-803093720346"
      },
      "outputs": [
        {
          "data": {
            "text/html": [
              "<div>\n",
              "<style scoped>\n",
              "    .dataframe tbody tr th:only-of-type {\n",
              "        vertical-align: middle;\n",
              "    }\n",
              "\n",
              "    .dataframe tbody tr th {\n",
              "        vertical-align: top;\n",
              "    }\n",
              "\n",
              "    .dataframe thead th {\n",
              "        text-align: right;\n",
              "    }\n",
              "</style>\n",
              "<table border=\"1\" class=\"dataframe\">\n",
              "  <thead>\n",
              "    <tr style=\"text-align: right;\">\n",
              "      <th></th>\n",
              "      <th>Gender</th>\n",
              "      <th>Age Range</th>\n",
              "      <th>Head Size(cm^3)</th>\n",
              "      <th>Brain Weight(grams)</th>\n",
              "    </tr>\n",
              "  </thead>\n",
              "  <tbody>\n",
              "    <tr>\n",
              "      <th>Gender</th>\n",
              "      <td>1.000000</td>\n",
              "      <td>-0.088652</td>\n",
              "      <td>-0.514050</td>\n",
              "      <td>-0.465266</td>\n",
              "    </tr>\n",
              "    <tr>\n",
              "      <th>Age Range</th>\n",
              "      <td>-0.088652</td>\n",
              "      <td>1.000000</td>\n",
              "      <td>-0.105428</td>\n",
              "      <td>-0.169438</td>\n",
              "    </tr>\n",
              "    <tr>\n",
              "      <th>Head Size(cm^3)</th>\n",
              "      <td>-0.514050</td>\n",
              "      <td>-0.105428</td>\n",
              "      <td>1.000000</td>\n",
              "      <td>0.799570</td>\n",
              "    </tr>\n",
              "    <tr>\n",
              "      <th>Brain Weight(grams)</th>\n",
              "      <td>-0.465266</td>\n",
              "      <td>-0.169438</td>\n",
              "      <td>0.799570</td>\n",
              "      <td>1.000000</td>\n",
              "    </tr>\n",
              "  </tbody>\n",
              "</table>\n",
              "</div>"
            ],
            "text/plain": [
              "                       Gender  Age Range  Head Size(cm^3)  Brain Weight(grams)\n",
              "Gender               1.000000  -0.088652        -0.514050            -0.465266\n",
              "Age Range           -0.088652   1.000000        -0.105428            -0.169438\n",
              "Head Size(cm^3)     -0.514050  -0.105428         1.000000             0.799570\n",
              "Brain Weight(grams) -0.465266  -0.169438         0.799570             1.000000"
            ]
          },
          "execution_count": 6,
          "metadata": {},
          "output_type": "execute_result"
        }
      ],
      "source": [
        "df.corr() # Analysing correlation between each columns"
      ]
    },
    {
      "cell_type": "markdown",
      "id": "fba11512",
      "metadata": {
        "papermill": {
          "duration": 0.010731,
          "end_time": "2022-07-15T13:49:20.438928",
          "exception": false,
          "start_time": "2022-07-15T13:49:20.428197",
          "status": "completed"
        },
        "tags": [],
        "id": "fba11512"
      },
      "source": [
        "##### ## Remember we are trying to see if brain weight DEPENDS on head size. So brain weight is dependent and head size is independent."
      ]
    },
    {
      "cell_type": "code",
      "execution_count": null,
      "id": "87303caa",
      "metadata": {
        "execution": {
          "iopub.execute_input": "2022-07-15T13:49:20.463603Z",
          "iopub.status.busy": "2022-07-15T13:49:20.462943Z",
          "iopub.status.idle": "2022-07-15T13:49:20.467513Z",
          "shell.execute_reply": "2022-07-15T13:49:20.466617Z"
        },
        "papermill": {
          "duration": 0.019723,
          "end_time": "2022-07-15T13:49:20.469831",
          "exception": false,
          "start_time": "2022-07-15T13:49:20.450108",
          "status": "completed"
        },
        "tags": [],
        "id": "87303caa"
      },
      "outputs": [],
      "source": [
        "X=df['Head Size(cm^3)'].values # X is independent variable\n",
        "Y=df['Brain Weight(grams)'].values # Y is dependent variable"
      ]
    },
    {
      "cell_type": "markdown",
      "id": "65cbb293",
      "metadata": {
        "papermill": {
          "duration": 0.011067,
          "end_time": "2022-07-15T13:49:20.492002",
          "exception": false,
          "start_time": "2022-07-15T13:49:20.480935",
          "status": "completed"
        },
        "tags": [],
        "id": "65cbb293"
      },
      "source": [
        "## **Finding the best fit line**"
      ]
    },
    {
      "cell_type": "markdown",
      "id": "5bce1500",
      "metadata": {
        "papermill": {
          "duration": 0.010732,
          "end_time": "2022-07-15T13:49:20.514546",
          "exception": false,
          "start_time": "2022-07-15T13:49:20.503814",
          "status": "completed"
        },
        "tags": [],
        "id": "5bce1500"
      },
      "source": [
        "Linear Regression Model Formular:\n",
        "\n",
        "#### **ȳ = mx̅ + c**\n",
        "\n",
        "#### where; **m = Σ((x-x̅)(y-ȳ)) / Σ(x-x̅)²**      \n",
        "\n",
        "( ȳ and x̅ is mean )\n",
        "\n",
        "Using m for in the least square method, we can find the best fitting line, the regression line."
      ]
    },
    {
      "cell_type": "code",
      "execution_count": null,
      "id": "d799bb9c",
      "metadata": {
        "execution": {
          "iopub.execute_input": "2022-07-15T13:49:20.538818Z",
          "iopub.status.busy": "2022-07-15T13:49:20.538153Z",
          "iopub.status.idle": "2022-07-15T13:49:20.549775Z",
          "shell.execute_reply": "2022-07-15T13:49:20.548602Z"
        },
        "papermill": {
          "duration": 0.02831,
          "end_time": "2022-07-15T13:49:20.553889",
          "exception": false,
          "start_time": "2022-07-15T13:49:20.525579",
          "status": "completed"
        },
        "tags": [],
        "id": "d799bb9c",
        "outputId": "4cc090b1-d3fe-413b-8fc9-4f61d154a940"
      },
      "outputs": [
        {
          "name": "stdout",
          "output_type": "stream",
          "text": [
            "m :  0.26342933948939945\n",
            "c :  325.57342104944223\n"
          ]
        }
      ],
      "source": [
        "mean_x=np.mean(X)\n",
        "mean_y=np.mean(Y)\n",
        "\n",
        "n=len(X)\n",
        "\n",
        "#using the formular, let's find m\n",
        "numerator=0\n",
        "denominator=0\n",
        "\n",
        "for i in range(n):\n",
        "  numerator=((X[i]-mean_x)*(Y[i]-mean_y))+numerator\n",
        "  denominator=((X[i]-mean_x)**2)+denominator\n",
        "m=numerator/denominator\n",
        "print(\"m : \",m)\n",
        "\n",
        "\n",
        "# Let's find c\n",
        "\n",
        "c=(mean_y)-(m*mean_x)\n",
        "print(\"c : \",c)"
      ]
    },
    {
      "cell_type": "markdown",
      "id": "76af946d",
      "metadata": {
        "papermill": {
          "duration": 0.011124,
          "end_time": "2022-07-15T13:49:20.577317",
          "exception": false,
          "start_time": "2022-07-15T13:49:20.566193",
          "status": "completed"
        },
        "tags": [],
        "id": "76af946d"
      },
      "source": [
        "##### **m :**   0.26342933948939945 \n",
        "##### **c :**   325.57342104944223\n"
      ]
    },
    {
      "cell_type": "markdown",
      "id": "98d2a5bf",
      "metadata": {
        "papermill": {
          "duration": 0.010838,
          "end_time": "2022-07-15T13:49:20.599300",
          "exception": false,
          "start_time": "2022-07-15T13:49:20.588462",
          "status": "completed"
        },
        "tags": [],
        "id": "98d2a5bf"
      },
      "source": [
        "Now it's time to visualize the algorithm on a plot graph"
      ]
    },
    {
      "cell_type": "code",
      "execution_count": null,
      "id": "3cb34040",
      "metadata": {
        "execution": {
          "iopub.execute_input": "2022-07-15T13:49:20.625031Z",
          "iopub.status.busy": "2022-07-15T13:49:20.624354Z",
          "iopub.status.idle": "2022-07-15T13:49:20.925666Z",
          "shell.execute_reply": "2022-07-15T13:49:20.924293Z"
        },
        "papermill": {
          "duration": 0.317925,
          "end_time": "2022-07-15T13:49:20.928430",
          "exception": false,
          "start_time": "2022-07-15T13:49:20.610505",
          "status": "completed"
        },
        "tags": [],
        "id": "3cb34040",
        "outputId": "ec221e86-2758-4208-ef6a-4b56062d6998"
      },
      "outputs": [
        {
          "data": {
            "image/png": "[encoded data removed]",
            "text/plain": [
              "<Figure size 432x288 with 1 Axes>"
            ]
          },
          "metadata": {
            "needs_background": "light"
          },
          "output_type": "display_data"
        }
      ],
      "source": [
        "max_x = np.max(X)  \n",
        "min_x = np.min(X) \n",
        "\n",
        "x = np.linspace(min_x, max_x) #Prediction Line\n",
        "y = c + (m * x) #Prediction Line\n",
        "\n",
        "plt.scatter(X,Y,color='orange',label='Actual Data Points') # Plotting scatter graph \n",
        "plt.plot(x,y,label='Predicted line') # Plotting predicted line\n",
        "plt.xlabel('Head size in cm3') # Giving label to x axis\n",
        "plt.ylabel('Brain Weight in grams') # Giving label to y axis\n",
        "plt.legend() \n",
        "plt.show()"
      ]
    },
    {
      "cell_type": "markdown",
      "id": "a9fd67ac",
      "metadata": {
        "papermill": {
          "duration": 0.013037,
          "end_time": "2022-07-15T13:49:20.953662",
          "exception": false,
          "start_time": "2022-07-15T13:49:20.940625",
          "status": "completed"
        },
        "tags": [],
        "id": "a9fd67ac"
      },
      "source": [
        "# R-SQUARED METHOD - Goodness of fit\n",
        "By definition, this is the measure of how close the data are fitted to the regression line. By formular; R² = 1 - (Σ(y-yₚ)²) / (Σ(y-ȳ)²)"
      ]
    },
    {
      "cell_type": "code",
      "execution_count": null,
      "id": "396b04b7",
      "metadata": {
        "execution": {
          "iopub.execute_input": "2022-07-15T13:49:20.979940Z",
          "iopub.status.busy": "2022-07-15T13:49:20.979524Z",
          "iopub.status.idle": "2022-07-15T13:49:20.990603Z",
          "shell.execute_reply": "2022-07-15T13:49:20.989326Z"
        },
        "papermill": {
          "duration": 0.027047,
          "end_time": "2022-07-15T13:49:20.993443",
          "exception": false,
          "start_time": "2022-07-15T13:49:20.966396",
          "status": "completed"
        },
        "tags": [],
        "id": "396b04b7",
        "outputId": "931aa846-230a-4724-f3db-fcf0524329b3"
      },
      "outputs": [
        {
          "name": "stdout",
          "output_type": "stream",
          "text": [
            "63.93117199570003 percent\n"
          ]
        }
      ],
      "source": [
        "denum = 0\n",
        "numer = 0\n",
        "\n",
        "for i in range(n): #n is the len of X from above\n",
        "    y_pred = (m * X[i]) + c\n",
        "    numer += (Y[i] - y_pred) ** 2\n",
        "    denum += (Y[i] - mean_y) ** 2\n",
        "    \n",
        "r_squared = 1 - (numer / denum)\n",
        "print(r_squared * 100, \"percent\")"
      ]
    },
    {
      "cell_type": "markdown",
      "id": "23140d0d",
      "metadata": {
        "papermill": {
          "duration": 0.011923,
          "end_time": "2022-07-15T13:49:21.017866",
          "exception": false,
          "start_time": "2022-07-15T13:49:21.005943",
          "status": "completed"
        },
        "tags": [],
        "id": "23140d0d"
      },
      "source": [
        "63.93117199570003 percent"
      ]
    },
    {
      "cell_type": "markdown",
      "id": "9eadd3cb",
      "metadata": {
        "papermill": {
          "duration": 0.011451,
          "end_time": "2022-07-15T13:49:21.041414",
          "exception": false,
          "start_time": "2022-07-15T13:49:21.029963",
          "status": "completed"
        },
        "tags": [],
        "id": "9eadd3cb"
      },
      "source": [
        "# **SCIKIT LEARN IMPLEMENTATION**"
      ]
    },
    {
      "cell_type": "markdown",
      "id": "260b8f9b",
      "metadata": {
        "papermill": {
          "duration": 0.011582,
          "end_time": "2022-07-15T13:49:21.064808",
          "exception": false,
          "start_time": "2022-07-15T13:49:21.053226",
          "status": "completed"
        },
        "tags": [],
        "id": "260b8f9b"
      },
      "source": [
        "### **Importing sklearn Library**"
      ]
    },
    {
      "cell_type": "code",
      "execution_count": null,
      "id": "40f922e1",
      "metadata": {
        "execution": {
          "iopub.execute_input": "2022-07-15T13:49:21.091362Z",
          "iopub.status.busy": "2022-07-15T13:49:21.090150Z",
          "iopub.status.idle": "2022-07-15T13:49:22.392658Z",
          "shell.execute_reply": "2022-07-15T13:49:22.391155Z"
        },
        "papermill": {
          "duration": 1.318783,
          "end_time": "2022-07-15T13:49:22.395664",
          "exception": false,
          "start_time": "2022-07-15T13:49:21.076881",
          "status": "completed"
        },
        "tags": [],
        "id": "40f922e1"
      },
      "outputs": [],
      "source": [
        "from sklearn.linear_model import LinearRegression\n",
        "from sklearn.metrics import r2_score,mean_squared_error"
      ]
    },
    {
      "cell_type": "code",
      "execution_count": null,
      "id": "979eac3a",
      "metadata": {
        "execution": {
          "iopub.execute_input": "2022-07-15T13:49:22.421739Z",
          "iopub.status.busy": "2022-07-15T13:49:22.421315Z",
          "iopub.status.idle": "2022-07-15T13:49:22.448056Z",
          "shell.execute_reply": "2022-07-15T13:49:22.446718Z"
        },
        "papermill": {
          "duration": 0.043994,
          "end_time": "2022-07-15T13:49:22.451599",
          "exception": false,
          "start_time": "2022-07-15T13:49:22.407605",
          "status": "completed"
        },
        "tags": [],
        "id": "979eac3a",
        "outputId": "55612964-f81d-440c-ca6d-13129731c6dd"
      },
      "outputs": [
        {
          "name": "stdout",
          "output_type": "stream",
          "text": [
            "Coefficients:  [[0.26342934]]\n",
            "Mean squared error: 5599834.09\n",
            "R_squared_score : 0.64\n"
          ]
        }
      ],
      "source": [
        "# we cannot use rank 1 matrices in sklearn so we reshape\n",
        "\n",
        "X=df['Head Size(cm^3)'].values.reshape(-1,1)      \n",
        "Y=df['Brain Weight(grams)'].values.reshape(-1,1) \n",
        "\n",
        "model=LinearRegression().fit(X,Y)     #Fitting my model \n",
        "predicted=model.predict(X)           # Predicting the model with respect to X(Independent Variable)\n",
        "\n",
        "print(\"Coefficients: \", model.coef_)\n",
        "print(\"Mean squared error: %.2f\"  % mean_squared_error(X,predicted))\n",
        "print(\"R_squared_score : %.2f\" % r2_score(Y, predicted))"
      ]
    },
    {
      "cell_type": "code",
      "execution_count": null,
      "id": "7ae99151",
      "metadata": {
        "execution": {
          "iopub.execute_input": "2022-07-15T13:49:22.477410Z",
          "iopub.status.busy": "2022-07-15T13:49:22.476594Z",
          "iopub.status.idle": "2022-07-15T13:49:22.732524Z",
          "shell.execute_reply": "2022-07-15T13:49:22.731331Z"
        },
        "papermill": {
          "duration": 0.27162,
          "end_time": "2022-07-15T13:49:22.735060",
          "exception": false,
          "start_time": "2022-07-15T13:49:22.463440",
          "status": "completed"
        },
        "tags": [],
        "id": "7ae99151",
        "outputId": "49b7803e-7dc9-4bac-dd0a-ab1bdce3bb4c"
      },
      "outputs": [
        {
          "data": {
            "image/png": "[encoded data removed]",
            "text/plain": [
              "<Figure size 432x288 with 1 Axes>"
            ]
          },
          "metadata": {
            "needs_background": "light"
          },
          "output_type": "display_data"
        }
      ],
      "source": [
        "plt.scatter(X,Y,color='orange',label='Actual Data Points') # Plotting scatter graph \n",
        "plt.plot(X,predicted,label='Predicted line') # Plotting predicted line\n",
        "plt.xlabel('Head size in cm3') # Giving label to x axis\n",
        "plt.ylabel('Brain Weight in grams') # Giving label to y axis\n",
        "plt.legend() \n",
        "plt.show()"
      ]
    },
    {
      "cell_type": "markdown",
      "id": "f9a70e44",
      "metadata": {
        "papermill": {
          "duration": 0.012092,
          "end_time": "2022-07-15T13:49:22.759647",
          "exception": false,
          "start_time": "2022-07-15T13:49:22.747555",
          "status": "completed"
        },
        "tags": [],
        "id": "f9a70e44"
      },
      "source": [
        "As you can see, it is a perfect replication of what was built from scratch. There you have it, **linear regression from scratch.**"
      ]
    }
  ],
  "metadata": {
    "kernelspec": {
      "display_name": "Python 3",
      "language": "python",
      "name": "python3"
    },
    "language_info": {
      "codemirror_mode": {
        "name": "ipython",
        "version": 3
      },
      "file_extension": ".py",
      "mimetype": "text/x-python",
      "name": "python",
      "nbconvert_exporter": "python",
      "pygments_lexer": "ipython3",
      "version": "3.7.12"
    },
    "papermill": {
      "default_parameters": {},
      "duration": 15.039796,
      "end_time": "2022-07-15T13:49:23.593964",
      "environment_variables": {},
      "exception": null,
      "input_path": "__notebook__.ipynb",
      "output_path": "__notebook__.ipynb",
      "parameters": {},
      "start_time": "2022-07-15T13:49:08.554168",
      "version": "2.3.4"
    },
    "colab": {
      "name": "linear-regression-from-scratch-with-python.ipynb",
      "provenance": [],
      "collapsed_sections": []
    }
  },
  "nbformat": 4,
  "nbformat_minor": 5
}